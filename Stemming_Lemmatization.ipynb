{
  "nbformat": 4,
  "nbformat_minor": 0,
  "metadata": {
    "colab": {
      "provenance": []
    },
    "kernelspec": {
      "name": "python3",
      "display_name": "Python 3"
    },
    "language_info": {
      "name": "python"
    }
  },
  "cells": [
    {
      "cell_type": "code",
      "execution_count": null,
      "metadata": {
        "id": "5IEwdMgTu-W3"
      },
      "outputs": [],
      "source": [
        "import nltk\n",
        "import spacy"
      ]
    },
    {
      "cell_type": "markdown",
      "source": [
        "Stemming in NLTK (not supported by Spacy)"
      ],
      "metadata": {
        "id": "NeW-WCxMwG2c"
      }
    },
    {
      "cell_type": "code",
      "source": [
        "from nltk.stem import PorterStemmer\n",
        "stemmer= PorterStemmer()"
      ],
      "metadata": {
        "id": "1p5wwNAUvWaG"
      },
      "execution_count": null,
      "outputs": []
    },
    {
      "cell_type": "code",
      "source": [
        "words= [\"eating\",\"eats\",\"eat\",\"ate\",\"adjustable\",\"rafting\",\"ability\",\"meeting\"]\n",
        "\n",
        "for word in words:\n",
        "  print(word, \"|\", stemmer.stem(word))"
      ],
      "metadata": {
        "colab": {
          "base_uri": "https://localhost:8080/"
        },
        "id": "QbyrM3B7wOYN",
        "outputId": "18cf380e-f264-4082-c7e5-446cea7a4f78"
      },
      "execution_count": null,
      "outputs": [
        {
          "output_type": "stream",
          "name": "stdout",
          "text": [
            "eating | eat\n",
            "eats | eat\n",
            "eat | eat\n",
            "ate | ate\n",
            "adjustable | adjust\n",
            "rafting | raft\n",
            "ability | abil\n",
            "meeting | meet\n"
          ]
        }
      ]
    },
    {
      "cell_type": "markdown",
      "source": [
        "Lemmatization in Spacy"
      ],
      "metadata": {
        "id": "rI83srTCwjWR"
      }
    },
    {
      "cell_type": "code",
      "source": [
        "nlp= spacy.load(\"en_core_web_sm\")"
      ],
      "metadata": {
        "id": "PmC93fBWwl2A"
      },
      "execution_count": null,
      "outputs": []
    },
    {
      "cell_type": "code",
      "source": [
        "doc= nlp(\"eating eats eat ate adjustable rafting ability meeting\")"
      ],
      "metadata": {
        "id": "pKTIStrxxPIS"
      },
      "execution_count": null,
      "outputs": []
    },
    {
      "cell_type": "code",
      "source": [
        "for token in doc:\n",
        "  print(token, \" | \", token.lemma_, \" | \", token.lemma)"
      ],
      "metadata": {
        "colab": {
          "base_uri": "https://localhost:8080/"
        },
        "id": "GFoNhuQGxXZw",
        "outputId": "09807351-5f2a-4198-f5df-edd2038d585a"
      },
      "execution_count": null,
      "outputs": [
        {
          "output_type": "stream",
          "name": "stdout",
          "text": [
            "eating  |  eat  |  9837207709914848172\n",
            "eats  |  eat  |  9837207709914848172\n",
            "eat  |  eat  |  9837207709914848172\n",
            "ate  |  eat  |  9837207709914848172\n",
            "adjustable  |  adjustable  |  6033511944150694480\n",
            "rafting  |  raft  |  7154368781129989833\n",
            "ability  |  ability  |  11565809527369121409\n",
            "meeting  |  meeting  |  14798207169164081740\n"
          ]
        }
      ]
    },
    {
      "cell_type": "code",
      "source": [
        "ar= nlp.get_pipe('attribute_ruler')\n",
        "ar.add([[{\"TEXT\":\"Bro\"}],[{\"TEXT\":\"Brah\"}]], {\"LEMMA\":\"Brother\"})"
      ],
      "metadata": {
        "id": "27tcPGkjyX-1"
      },
      "execution_count": null,
      "outputs": []
    },
    {
      "cell_type": "code",
      "source": [
        "doc= nlp(\"Bro, you wanna go? Brah, don't say no! I'm exhausted.\")\n",
        "for token in doc:\n",
        "  print(token, \" | \", token.lemma_)"
      ],
      "metadata": {
        "colab": {
          "base_uri": "https://localhost:8080/"
        },
        "id": "tNkgMWcUzoft",
        "outputId": "66331056-c704-470a-dda2-63bf58b449cf"
      },
      "execution_count": null,
      "outputs": [
        {
          "output_type": "stream",
          "name": "stdout",
          "text": [
            "Bro  |  Brother\n",
            ",  |  ,\n",
            "you  |  you\n",
            "wanna  |  wanna\n",
            "go  |  go\n",
            "?  |  ?\n",
            "Brah  |  Brother\n",
            ",  |  ,\n",
            "do  |  do\n",
            "n't  |  not\n",
            "say  |  say\n",
            "no  |  no\n",
            "!  |  !\n",
            "I  |  I\n",
            "'m  |  be\n",
            "exhausted  |  exhausted\n",
            ".  |  .\n"
          ]
        }
      ]
    }
  ]
}